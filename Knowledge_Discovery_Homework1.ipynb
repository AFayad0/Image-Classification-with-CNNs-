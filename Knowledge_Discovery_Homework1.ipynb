{
  "nbformat": 4,
  "nbformat_minor": 0,
  "metadata": {
    "colab": {
      "provenance": [],
      "include_colab_link": true
    },
    "kernelspec": {
      "name": "python3",
      "display_name": "Python 3"
    },
    "language_info": {
      "name": "python"
    }
  },
  "cells": [
    {
      "cell_type": "markdown",
      "metadata": {
        "id": "view-in-github",
        "colab_type": "text"
      },
      "source": [
        "<a href=\"https://colab.research.google.com/github/AFayad0/Image-Classification-with-CNNs-/blob/main/Knowledge_Discovery_Homework1.ipynb\" target=\"_parent\"><img src=\"https://colab.research.google.com/assets/colab-badge.svg\" alt=\"Open In Colab\"/></a>"
      ]
    },
    {
      "cell_type": "markdown",
      "source": [
        "# ResNet Model with Cropping Images\n"
      ],
      "metadata": {
        "id": "XR_2GBc-Rf9h"
      }
    },
    {
      "cell_type": "code",
      "source": [
        "# Import Libraries\n",
        "import numpy as np \n",
        "import pandas as pd \n",
        "import torch\n",
        "import torchvision \n",
        "import os\n",
        "import torch\n",
        "import torchvision.transforms as transforms\n",
        "import torchvision.datasets as datasets\n",
        "import torchvision.models as models\n",
        "import torch.nn as nn\n",
        "import torch.optim as optim\n",
        "from torch.utils.data import Dataset\n",
        "from torch.utils.data import DataLoader\n",
        "import time\n",
        "import copy\n",
        "from torch.optim import lr_scheduler\n",
        "from PIL import Image\n",
        "import matplotlib.pyplot as plt\n",
        "import csv\n",
        "import cv2\n"
      ],
      "metadata": {
        "_uuid": "8f2839f25d086af736a60e9eeb907d3b93b6e0e5",
        "_cell_guid": "b1076dfc-b9ad-4769-8c92-a6c4dae69d19",
        "execution": {
          "iopub.status.busy": "2023-05-23T10:18:11.043429Z",
          "iopub.execute_input": "2023-05-23T10:18:11.044245Z",
          "iopub.status.idle": "2023-05-23T10:18:14.553383Z",
          "shell.execute_reply.started": "2023-05-23T10:18:11.044195Z",
          "shell.execute_reply": "2023-05-23T10:18:14.551461Z"
        },
        "trusted": true,
        "id": "x0lY9a6BMhV7"
      },
      "execution_count": null,
      "outputs": []
    },
    {
      "cell_type": "code",
      "source": [
        "img = cv2.imread(\"/kaggle/input/aiunict-2023/train/01/01_002.png\")\n",
        "# Create a background subtractor\n",
        "bg_subtractor = cv2.createBackgroundSubtractorMOG2()\n",
        "\n",
        "# Apply the background subtractor to the image\n",
        "mask = bg_subtractor.apply(img)\n",
        "\n",
        "# Remove the background from the original image using the mask\n",
        "img_without_bg = cv2.bitwise_and(img, img, mask=mask)\n",
        "\n",
        "# Save the result\n",
        "cv2.imwrite(\"5.png\", img_without_bg)\n",
        "\n"
      ],
      "metadata": {
        "execution": {
          "iopub.status.busy": "2023-05-23T10:18:49.093315Z",
          "iopub.execute_input": "2023-05-23T10:18:49.094142Z",
          "iopub.status.idle": "2023-05-23T10:18:49.201800Z",
          "shell.execute_reply.started": "2023-05-23T10:18:49.094086Z",
          "shell.execute_reply": "2023-05-23T10:18:49.200696Z"
        },
        "trusted": true,
        "id": "6MgrN1XgMhV-",
        "outputId": "15869230-c937-4b73-8e3b-e234d49f33a4"
      },
      "execution_count": null,
      "outputs": [
        {
          "execution_count": 2,
          "output_type": "execute_result",
          "data": {
            "text/plain": "True"
          },
          "metadata": {}
        }
      ]
    },
    {
      "cell_type": "code",
      "source": [
        "####### MORE CENTERED CROP #########\n",
        "'''\n",
        "# load csv file with image coordinates\n",
        "csv_file = '/kaggle/input/aiunict-2023/train.csv'\n",
        "df = pd.read_csv(csv_file)\n",
        "\n",
        "# path to original images\n",
        "img_folder = '/kaggle/input/aiunict-2023/train'\n",
        "\n",
        "# path to new cropped images\n",
        "cropped_folder = '/kaggle/working/train'\n",
        "\n",
        "# create folders for cropped images if they don't exist\n",
        "if not os.path.exists(cropped_folder):\n",
        "    os.makedirs(cropped_folder)\n",
        "\n",
        "# loop through rows in the dataframe\n",
        "for index, row in df.iterrows():\n",
        "    # get image name and coordinates from dataframe\n",
        "    img_name = row['image']\n",
        "    x1, y1, x2, y2 = row['x1'], row['y1'], row['x2'], row['y2']\n",
        "    img_class = row['class']\n",
        "    \n",
        "    if(x1 < 1):\n",
        "        continue\n",
        "        \n",
        "    # calculate center of bounding box\n",
        "    center_x = (x1 + x2) // 2\n",
        "    center_y = (y1 + y2) // 2\n",
        "    \n",
        "    # adjust coordinates for cropping\n",
        "    crop_width = int((x2 - x1) * 0.5)  # crop more than half of the image\n",
        "    crop_height = int((y2 - y1) * 0.5)  # crop more than half of the image\n",
        "    crop_x1 = center_x - crop_width // 2\n",
        "    crop_y1 = center_y - crop_height // 2\n",
        "    crop_x2 = center_x + crop_width // 2\n",
        "    crop_y2 = center_y + crop_height // 2    \n",
        "    \n",
        "    \n",
        " \n",
        "        \n",
        "    # path to original image and new cropped image\n",
        "    img_path = os.path.join(img_folder, img_name)\n",
        "    cropped_path = os.path.join(cropped_folder, f'0{img_class}')\n",
        "\n",
        "    # read original image and crop it\n",
        "    img = cv2.imread(img_path)\n",
        "    cropped_img = img[crop_y1:crop_y2, crop_x1:crop_x2]\n",
        "\n",
        "    # write cropped image to file\n",
        "    if not os.path.exists(cropped_path):\n",
        "        os.makedirs(cropped_path)\n",
        "    cv2.imwrite(os.path.join(cropped_path, img_name.split('/')[-1]), cropped_img)\n",
        "'''\n"
      ],
      "metadata": {
        "trusted": true,
        "id": "KtVUDgXyMhWA"
      },
      "execution_count": null,
      "outputs": []
    },
    {
      "cell_type": "code",
      "source": [
        "#try only class 0\n",
        "'''\n",
        "import cv2\n",
        "import numpy as np\n",
        "import pandas as pd\n",
        "import os\n",
        "\n",
        "# load csv file with image coordinates\n",
        "csv_file = '/kaggle/input/aiunict-2023/train.csv'\n",
        "df = pd.read_csv(csv_file)\n",
        "\n",
        "# path to original images\n",
        "img_folder = '/kaggle/input/aiunict-2023/train'\n",
        "\n",
        "# path to new images\n",
        "new_folder = '/kaggle/working/train'\n",
        "\n",
        "# create folders for new images if they don't exist\n",
        "if not os.path.exists(new_folder):\n",
        "    os.makedirs(new_folder)\n",
        "\n",
        "# loop through rows in the dataframe\n",
        "for index, row in df.iterrows():\n",
        "    # get image name and coordinates from dataframe\n",
        "    img_name = row['image']\n",
        "    x1, y1, x2, y2 = row['x1'], row['y1'], row['x2'], row['y2']\n",
        "    img_class = row['class']\n",
        "\n",
        "    # read original image\n",
        "    img = cv2.imread(os.path.join(img_folder, img_name))\n",
        "    \n",
        "    # create mask with zeros\n",
        "    mask = np.zeros(img.shape[:2], dtype=np.uint8)\n",
        "\n",
        "    # draw bounding box on mask\n",
        "    cv2.rectangle(mask, (x1, y1), (x2, y2), (255, 255, 255), -1)\n",
        "\n",
        "    # blur and desaturate background outside of bounding box\n",
        "    blur_radius = 99\n",
        "    img_blurred = cv2.GaussianBlur(img, (blur_radius, blur_radius), 0)\n",
        "    mask_inv = cv2.bitwise_not(mask)\n",
        "    img_desaturated = cv2.cvtColor(img_blurred, cv2.COLOR_BGR2GRAY)\n",
        "    img_desaturated = cv2.cvtColor(img_desaturated, cv2.COLOR_GRAY2BGR)\n",
        "    img_background = cv2.bitwise_and(img_blurred, img_blurred, mask=mask_inv)\n",
        "    img_background = cv2.cvtColor(img_background, cv2.COLOR_BGR2GRAY)\n",
        "    img_background = cv2.cvtColor(img_background, cv2.COLOR_GRAY2BGR)\n",
        "    \n",
        "    # combine background and foreground inside of bounding box\n",
        "    img_result = cv2.bitwise_or(img_background, img)\n",
        "    \n",
        "    if img_class != 0:\n",
        "        img_result = img\n",
        "    \n",
        "    # save new image\n",
        "    new_folder_class = os.path.join(new_folder, f'0{img_class}')\n",
        "    if not os.path.exists(new_folder_class):\n",
        "        os.makedirs(new_folder_class)\n",
        "    cv2.imwrite(os.path.join(new_folder_class, img_name.split('/')[-1]), img_result)\n",
        "'''"
      ],
      "metadata": {
        "trusted": true,
        "id": "j4OI049oMhWA"
      },
      "execution_count": null,
      "outputs": []
    },
    {
      "cell_type": "code",
      "source": [
        "##### Working BLACK Background\n",
        "\n",
        "\n",
        "# load csv file with image coordinates\n",
        "csv_file = '/kaggle/input/aiunict-2023/train.csv'\n",
        "df = pd.read_csv(csv_file)\n",
        "\n",
        "# path to original images\n",
        "img_folder = '/kaggle/input/aiunict-2023/train'\n",
        "\n",
        "# path to new images\n",
        "new_folder = '/kaggle/working/train'\n",
        "\n",
        "# create folders for new images if they don't exist\n",
        "if not os.path.exists(new_folder):\n",
        "    os.makedirs(new_folder)\n",
        "\n",
        "# loop through rows in the dataframe\n",
        "for index, row in df.iterrows():\n",
        "    # get image name and coordinates from dataframe\n",
        "    img_name = row['image']\n",
        "    x1, y1, x2, y2 = row['x1'], row['y1'], row['x2'], row['y2']\n",
        "    img_class = row['class']\n",
        "    \n",
        "    # read original image\n",
        "    img_path = os.path.join(img_folder, img_name)\n",
        "    img = cv2.imread(img_path)\n",
        "\n",
        "    # create mask\n",
        "    mask = np.zeros(img.shape[:2], dtype=np.uint8)\n",
        "    mask[y1:y2, x1:x2] = 255\n",
        "\n",
        "    # apply mask to original image to color the area inside the bounding box\n",
        "    new_img = cv2.bitwise_and(img, img, mask=mask)\n",
        "\n",
        "    #if img_class != 0:\n",
        "        #new_img = img\n",
        "    \n",
        "    # write new image to file\n",
        "    new_path = os.path.join(new_folder, f'0{img_class}')\n",
        "    if not os.path.exists(new_path):\n",
        "        os.makedirs(new_path)\n",
        "    cv2.imwrite(os.path.join(new_path, img_name.split('/')[-1]), new_img)\n"
      ],
      "metadata": {
        "execution": {
          "iopub.status.busy": "2023-05-23T10:19:15.921450Z",
          "iopub.execute_input": "2023-05-23T10:19:15.922284Z",
          "iopub.status.idle": "2023-05-23T10:19:46.014734Z",
          "shell.execute_reply.started": "2023-05-23T10:19:15.922243Z",
          "shell.execute_reply": "2023-05-23T10:19:46.013388Z"
        },
        "trusted": true,
        "id": "LurnK21XMhWB"
      },
      "execution_count": null,
      "outputs": []
    },
    {
      "cell_type": "code",
      "source": [
        "# with open('/kaggle/input/aiunict-2023/train.csv') as csv_file:\n",
        " #   csv_reader = csv.reader(csv_file)\n",
        " #   rows = list(csv_reader)"
      ],
      "metadata": {
        "trusted": true,
        "id": "hXD_1ygGMhWB"
      },
      "execution_count": null,
      "outputs": []
    },
    {
      "cell_type": "code",
      "source": [
        "#import shutil\n",
        "#shutil.rmtree('/kaggle/working/test')"
      ],
      "metadata": {
        "trusted": true,
        "id": "6hM4bPU4MhWC"
      },
      "execution_count": null,
      "outputs": []
    },
    {
      "cell_type": "code",
      "source": [
        "# Specify transforms \n",
        "transformations = transforms.Compose([\n",
        "    transforms.RandomHorizontalFlip(),\n",
        "    transforms.Resize(224),\n",
        "    #transforms.Resize(255),\n",
        "    #transforms.CenterCrop(224),\n",
        "    transforms.ToTensor(),\n",
        "    transforms.Normalize(mean=[0.485, 0.456, 0.406], std=[0.229, 0.224, 0.225])\n",
        "])"
      ],
      "metadata": {
        "execution": {
          "iopub.status.busy": "2023-05-23T10:19:46.045700Z",
          "iopub.execute_input": "2023-05-23T10:19:46.046190Z",
          "iopub.status.idle": "2023-05-23T10:19:46.053295Z",
          "shell.execute_reply.started": "2023-05-23T10:19:46.046139Z",
          "shell.execute_reply": "2023-05-23T10:19:46.051932Z"
        },
        "trusted": true,
        "id": "3gv0JKQiMhWC"
      },
      "execution_count": null,
      "outputs": []
    },
    {
      "cell_type": "code",
      "source": [
        "# Load in each dataset and apply transformations \n",
        "dataset = datasets.ImageFolder(\"/kaggle/working/train/\", transform = transformations)\n",
        "len(dataset)\n",
        "train_set, val_set = torch.utils.data.random_split(dataset, [1300, 300])\n",
        "print(len(train_set), len(val_set))\n"
      ],
      "metadata": {
        "execution": {
          "iopub.status.busy": "2023-05-23T10:19:46.055305Z",
          "iopub.execute_input": "2023-05-23T10:19:46.055768Z",
          "iopub.status.idle": "2023-05-23T10:19:46.098085Z",
          "shell.execute_reply.started": "2023-05-23T10:19:46.055729Z",
          "shell.execute_reply": "2023-05-23T10:19:46.096908Z"
        },
        "trusted": true,
        "id": "ivsSDclDMhWC",
        "outputId": "51a405fb-fb84-4d11-bdc2-378d5efebc3a"
      },
      "execution_count": null,
      "outputs": [
        {
          "name": "stdout",
          "text": "1300 300\n",
          "output_type": "stream"
        }
      ]
    },
    {
      "cell_type": "code",
      "source": [],
      "metadata": {
        "trusted": true,
        "id": "fp731IHnMhWC"
      },
      "execution_count": null,
      "outputs": []
    },
    {
      "cell_type": "code",
      "source": [
        "# Put into a Dataloader using torch library\n",
        "train_loader = torch.utils.data.DataLoader(train_set, batch_size=64, shuffle=True)\n",
        "val_loader = torch.utils.data.DataLoader(val_set, batch_size =64, shuffle=True)"
      ],
      "metadata": {
        "execution": {
          "iopub.status.busy": "2023-05-23T10:19:46.099961Z",
          "iopub.execute_input": "2023-05-23T10:19:46.100684Z",
          "iopub.status.idle": "2023-05-23T10:19:46.107054Z",
          "shell.execute_reply.started": "2023-05-23T10:19:46.100634Z",
          "shell.execute_reply": "2023-05-23T10:19:46.106069Z"
        },
        "trusted": true,
        "id": "1lNmTQYRMhWC"
      },
      "execution_count": null,
      "outputs": []
    },
    {
      "cell_type": "code",
      "source": [
        "dataloaders = {'train': train_loader,\n",
        "               'val': val_loader}\n",
        "\n",
        "dataset_sizes = {'train': len(train_set),\n",
        "               'val': len(val_set)}"
      ],
      "metadata": {
        "execution": {
          "iopub.status.busy": "2023-05-23T10:19:46.109301Z",
          "iopub.execute_input": "2023-05-23T10:19:46.109701Z",
          "iopub.status.idle": "2023-05-23T10:19:46.118837Z",
          "shell.execute_reply.started": "2023-05-23T10:19:46.109653Z",
          "shell.execute_reply": "2023-05-23T10:19:46.117614Z"
        },
        "trusted": true,
        "id": "e2x82R7ZMhWD"
      },
      "execution_count": null,
      "outputs": []
    },
    {
      "cell_type": "code",
      "source": [
        "def train_model(model, criterion, optimizer, scheduler, num_epochs=25):\n",
        "    since = time.time()\n",
        "\n",
        "    best_model_wts = copy.deepcopy(model.state_dict())\n",
        "    best_acc = 0.0\n",
        "\n",
        "    for epoch in range(num_epochs):\n",
        "        print(f'Epoch {epoch}/{num_epochs - 1}')\n",
        "        print('-' * 10)\n",
        "\n",
        "        # Each epoch has a training and validation phase\n",
        "        for phase in ['train', 'val']:\n",
        "            if phase == 'train':\n",
        "                model.train()  # Set model to training mode\n",
        "            else:\n",
        "                model.eval()   # Set model to evaluate mode\n",
        "\n",
        "            running_loss = 0.0\n",
        "            running_corrects = 0\n",
        "\n",
        "            # Iterate over data.\n",
        "            for inputs, labels in dataloaders[phase]:\n",
        "                inputs = inputs.to(device)\n",
        "                labels = labels.to(device)\n",
        "\n",
        "                # zero the parameter gradients\n",
        "                optimizer.zero_grad()\n",
        "\n",
        "                # forward\n",
        "                # track history if only in train\n",
        "                with torch.set_grad_enabled(phase == 'train'):\n",
        "                    outputs = model(inputs)\n",
        "                    _, preds = torch.max(outputs, 1)\n",
        "                    loss = criterion(outputs, labels)\n",
        "\n",
        "                    # backward + optimize only if in training phase\n",
        "                    if phase == 'train':\n",
        "                        loss.backward()\n",
        "                        optimizer.step()\n",
        "\n",
        "                # statistics\n",
        "                running_loss += loss.item() * inputs.size(0)\n",
        "                running_corrects += torch.sum(preds == labels.data)\n",
        "            if phase == 'train':\n",
        "                scheduler.step()\n",
        "\n",
        "            epoch_loss = running_loss / dataset_sizes[phase]\n",
        "            epoch_acc = running_corrects.double() / dataset_sizes[phase]\n",
        "\n",
        "            print(f'{phase} Loss: {epoch_loss:.4f} Acc: {epoch_acc:.4f}')\n",
        "\n",
        "            # deep copy the model\n",
        "            if phase == 'val' and epoch_acc > best_acc:\n",
        "                best_acc = epoch_acc\n",
        "                best_model_wts = copy.deepcopy(model.state_dict())\n",
        "\n",
        "        print()\n",
        "\n",
        "    time_elapsed = time.time() - since\n",
        "    print(f'Training complete in {time_elapsed // 60:.0f}m {time_elapsed % 60:.0f}s')\n",
        "    print(f'Best val Acc: {best_acc:4f}')\n",
        "\n",
        "    # load best model weights\n",
        "    model.load_state_dict(best_model_wts)\n",
        "    return model"
      ],
      "metadata": {
        "execution": {
          "iopub.status.busy": "2023-05-23T10:19:46.120751Z",
          "iopub.execute_input": "2023-05-23T10:19:46.121159Z",
          "iopub.status.idle": "2023-05-23T10:19:46.138521Z",
          "shell.execute_reply.started": "2023-05-23T10:19:46.121123Z",
          "shell.execute_reply": "2023-05-23T10:19:46.137352Z"
        },
        "trusted": true,
        "id": "z_RoFDJsMhWD"
      },
      "execution_count": null,
      "outputs": []
    },
    {
      "cell_type": "code",
      "source": [
        "def visualize_model(model, num_images=6):\n",
        "    was_training = model.training\n",
        "    model.eval()\n",
        "    images_so_far = 0\n",
        "    fig = plt.figure()\n",
        "\n",
        "    with torch.no_grad():\n",
        "        for i, (inputs, labels) in enumerate(dataloaders['val']):\n",
        "            inputs = inputs.to(device)\n",
        "            labels = labels.to(device)\n",
        "\n",
        "            outputs = model(inputs)\n",
        "            _, preds = torch.max(outputs, 1)\n",
        "\n",
        "            for j in range(inputs.size()[0]):\n",
        "                images_so_far += 1\n",
        "                ax = plt.subplot(num_images//2, 2, images_so_far)\n",
        "                ax.axis('off')\n",
        "                ax.set_title(f'predicted: {class_names[preds[j]]}')\n",
        "                imshow(inputs.cpu().data[j])\n",
        "\n",
        "                if images_so_far == num_images:\n",
        "                    model.train(mode=was_training)\n",
        "                    return\n",
        "        model.train(mode=was_training)"
      ],
      "metadata": {
        "execution": {
          "iopub.status.busy": "2023-05-23T10:19:49.611006Z",
          "iopub.execute_input": "2023-05-23T10:19:49.612046Z",
          "iopub.status.idle": "2023-05-23T10:19:49.623365Z",
          "shell.execute_reply.started": "2023-05-23T10:19:49.611995Z",
          "shell.execute_reply": "2023-05-23T10:19:49.622168Z"
        },
        "trusted": true,
        "id": "P50PeouVMhWD"
      },
      "execution_count": null,
      "outputs": []
    },
    {
      "cell_type": "code",
      "source": [
        "device = torch.device(\"cuda\" if torch.cuda.is_available() else \"cpu\")\n",
        "\n",
        "model_ft = models.resnet50(pretrained=True)\n",
        "num_ftrs = model_ft.fc.in_features\n",
        "\n",
        "model_ft.fc = nn.Linear(num_ftrs, 8)\n",
        "\n",
        "model_ft = model_ft.to(device)\n",
        "\n",
        "criterion = nn.CrossEntropyLoss()\n",
        "\n",
        "# Observe that all parameters are being optimized\n",
        "optimizer_ft = optim.Adam(model_ft.parameters(), lr=0.001)\n",
        "\n",
        "# Decay LR by a factor of 0.1 every 7 epochs\n",
        "exp_lr_scheduler = lr_scheduler.StepLR(optimizer_ft, step_size=7, gamma=0.1)"
      ],
      "metadata": {
        "execution": {
          "iopub.status.busy": "2023-05-23T10:20:01.529942Z",
          "iopub.execute_input": "2023-05-23T10:20:01.530656Z",
          "iopub.status.idle": "2023-05-23T10:20:05.801715Z",
          "shell.execute_reply.started": "2023-05-23T10:20:01.530613Z",
          "shell.execute_reply": "2023-05-23T10:20:05.800630Z"
        },
        "trusted": true,
        "id": "gl8CxfraMhWD",
        "outputId": "743f9ebf-121a-4f5f-ee20-e45ea7a24fad",
        "colab": {
          "referenced_widgets": [
            "a84fb58e92854b0c909ff5b3c5c9f54e"
          ]
        }
      },
      "execution_count": null,
      "outputs": [
        {
          "name": "stderr",
          "text": "/opt/conda/lib/python3.7/site-packages/torchvision/models/_utils.py:209: UserWarning: The parameter 'pretrained' is deprecated since 0.13 and may be removed in the future, please use 'weights' instead.\n  f\"The parameter '{pretrained_param}' is deprecated since 0.13 and may be removed in the future, \"\n/opt/conda/lib/python3.7/site-packages/torchvision/models/_utils.py:223: UserWarning: Arguments other than a weight enum or `None` for 'weights' are deprecated since 0.13 and may be removed in the future. The current behavior is equivalent to passing `weights=ResNet50_Weights.IMAGENET1K_V1`. You can also use `weights=ResNet50_Weights.DEFAULT` to get the most up-to-date weights.\n  warnings.warn(msg)\nDownloading: \"https://download.pytorch.org/models/resnet50-0676ba61.pth\" to /root/.cache/torch/hub/checkpoints/resnet50-0676ba61.pth\n",
          "output_type": "stream"
        },
        {
          "output_type": "display_data",
          "data": {
            "text/plain": "  0%|          | 0.00/97.8M [00:00<?, ?B/s]",
            "application/vnd.jupyter.widget-view+json": {
              "version_major": 2,
              "version_minor": 0,
              "model_id": "a84fb58e92854b0c909ff5b3c5c9f54e"
            }
          },
          "metadata": {}
        }
      ]
    },
    {
      "cell_type": "code",
      "source": [
        "model_ft = train_model(model_ft, criterion, optimizer_ft, exp_lr_scheduler,\n",
        "                       num_epochs=10)"
      ],
      "metadata": {
        "execution": {
          "iopub.status.busy": "2023-05-23T10:20:10.571411Z",
          "iopub.execute_input": "2023-05-23T10:20:10.572220Z",
          "iopub.status.idle": "2023-05-23T10:22:44.782617Z",
          "shell.execute_reply.started": "2023-05-23T10:20:10.572180Z",
          "shell.execute_reply": "2023-05-23T10:22:44.781387Z"
        },
        "trusted": true,
        "id": "ARai_faCMhWD",
        "outputId": "027c37bf-c060-4514-d6ab-885b0e2f0ae6"
      },
      "execution_count": null,
      "outputs": [
        {
          "name": "stdout",
          "text": "Epoch 0/9\n----------\ntrain Loss: 0.5722 Acc: 0.8223\nval Loss: 8.0796 Acc: 0.3367\n\nEpoch 1/9\n----------\ntrain Loss: 0.1767 Acc: 0.9515\nval Loss: 0.7277 Acc: 0.8467\n\nEpoch 2/9\n----------\ntrain Loss: 0.1761 Acc: 0.9500\nval Loss: 0.3601 Acc: 0.8767\n\nEpoch 3/9\n----------\ntrain Loss: 0.2141 Acc: 0.9462\nval Loss: 0.9821 Acc: 0.7433\n\nEpoch 4/9\n----------\ntrain Loss: 0.1562 Acc: 0.9454\nval Loss: 0.0788 Acc: 0.9733\n\nEpoch 5/9\n----------\ntrain Loss: 0.1596 Acc: 0.9546\nval Loss: 0.6823 Acc: 0.8200\n\nEpoch 6/9\n----------\ntrain Loss: 0.1310 Acc: 0.9638\nval Loss: 0.2502 Acc: 0.9433\n\nEpoch 7/9\n----------\ntrain Loss: 0.0673 Acc: 0.9831\nval Loss: 0.0450 Acc: 0.9867\n\nEpoch 8/9\n----------\ntrain Loss: 0.0255 Acc: 0.9954\nval Loss: 0.0246 Acc: 0.9967\n\nEpoch 9/9\n----------\ntrain Loss: 0.0229 Acc: 0.9962\nval Loss: 0.0340 Acc: 0.9900\n\nTraining complete in 2m 34s\nBest val Acc: 0.996667\n",
          "output_type": "stream"
        }
      ]
    },
    {
      "cell_type": "code",
      "source": [
        "#Process the image\n",
        "def process_image(image_path):\n",
        "    # Load Image\n",
        "    img = Image.open(image_path)\n",
        "    \n",
        "    # Get the dimensions of the image\n",
        "    width, height = img.size\n",
        "    \n",
        "    # Resize by keeping the aspect ratio, but changing the dimension\n",
        "    # so the shortest size is 255px\n",
        "    img = img.resize((255, int(255*(height/width))) if width < height else (int(255*(width/height)), 255))\n",
        "    \n",
        "    # Get the dimensions of the new image size\n",
        "    width, height = img.size\n",
        "    \n",
        "    # Set the coordinates to do a center crop of 224 x 224\n",
        "    #left = (width - 224)/2\n",
        "    #top = (height - 224)/2\n",
        "    #right = (width + 224)/2\n",
        "    #bottom = (height + 224)/2\n",
        "    #img = img.crop((left, top, right, bottom))\n",
        "    \n",
        "    # Turn image into numpy array\n",
        "    img = np.array(img)\n",
        "    \n",
        "    # Make the color channel dimension first instead of last\n",
        "    img = img.transpose((2, 0, 1))\n",
        "    \n",
        "    # Make all values between 0 and 1\n",
        "    img = img/255\n",
        "    \n",
        "    # Normalize based on the preset mean and standard deviation\n",
        "    img[0] = (img[0] - 0.485)/0.229\n",
        "    img[1] = (img[1] - 0.456)/0.224\n",
        "    img[2] = (img[2] - 0.406)/0.225\n",
        "    \n",
        "    # Add a fourth dimension to the beginning to indicate batch size\n",
        "    img = img[np.newaxis,:]\n",
        "    \n",
        "    # Turn into a torch tensor\n",
        "    image = torch.from_numpy(img)\n",
        "    image = image.float()\n",
        "    return image"
      ],
      "metadata": {
        "execution": {
          "iopub.status.busy": "2023-05-23T10:23:14.751230Z",
          "iopub.execute_input": "2023-05-23T10:23:14.751736Z",
          "iopub.status.idle": "2023-05-23T10:23:14.762754Z",
          "shell.execute_reply.started": "2023-05-23T10:23:14.751699Z",
          "shell.execute_reply": "2023-05-23T10:23:14.761351Z"
        },
        "trusted": true,
        "id": "2rQq0t1PMhWD"
      },
      "execution_count": null,
      "outputs": []
    },
    {
      "cell_type": "code",
      "source": [
        "# Using the model to predict the label\n",
        "def predict(image, model):\n",
        "    # Pass the image through the model\n",
        "    output = model.forward(image)\n",
        "    \n",
        "    # Reverse the log function in the output\n",
        "    output = torch.exp(output)\n",
        "    \n",
        "    # Get the top predicted class, and the output percentage for\n",
        "    # that class\n",
        "    probs, classes = output.topk(1, dim=1)\n",
        "    return probs.item(), classes.item()\n",
        "\n",
        "\n"
      ],
      "metadata": {
        "execution": {
          "iopub.status.busy": "2023-05-23T10:23:25.199265Z",
          "iopub.execute_input": "2023-05-23T10:23:25.199691Z",
          "iopub.status.idle": "2023-05-23T10:23:25.208847Z",
          "shell.execute_reply.started": "2023-05-23T10:23:25.199653Z",
          "shell.execute_reply": "2023-05-23T10:23:25.207657Z"
        },
        "trusted": true,
        "id": "aorkRD8GMhWE"
      },
      "execution_count": null,
      "outputs": []
    },
    {
      "cell_type": "code",
      "source": [
        "# Show Image\n",
        "def show_image(image):\n",
        "    # Convert image to numpy\n",
        "    image = image.numpy()\n",
        "    \n",
        "    # Un-normalize the image\n",
        "    image[0] = image[0] * 0.226 + 0.445\n",
        "    \n",
        "    # Print the image\n",
        "    fig = plt.figure(figsize=(25, 4))\n",
        "    plt.imshow(np.transpose(image[0], (1, 2, 0)))"
      ],
      "metadata": {
        "execution": {
          "iopub.status.busy": "2023-05-23T10:23:29.092186Z",
          "iopub.execute_input": "2023-05-23T10:23:29.093834Z",
          "iopub.status.idle": "2023-05-23T10:23:29.100636Z",
          "shell.execute_reply.started": "2023-05-23T10:23:29.093777Z",
          "shell.execute_reply": "2023-05-23T10:23:29.099536Z"
        },
        "trusted": true,
        "id": "TalnRVjgMhWE"
      },
      "execution_count": null,
      "outputs": []
    },
    {
      "cell_type": "code",
      "source": [
        "##### Working BLACK Background on TEST IMAGES\n",
        "\n",
        "\n",
        "# load csv file with image coordinates\n",
        "csv_file = '/kaggle/input/aiunict-2023/test.csv'\n",
        "df = pd.read_csv(csv_file)\n",
        "\n",
        "# path to original images\n",
        "img_folder = '/kaggle/input/aiunict-2023/test'\n",
        "\n",
        "# path to new cropped images\n",
        "cropped_folder = '/kaggle/working/test'\n",
        "\n",
        "# create folders for new images if they don't exist\n",
        "if not os.path.exists(cropped_folder):\n",
        "    os.makedirs(cropped_folder)\n",
        "\n",
        "# loop through rows in the dataframe\n",
        "for index, row in df.iterrows():\n",
        "    # get image name and coordinates from dataframe\n",
        "    img_name = row['image']\n",
        "    x1, y1, x2, y2 = row['x1'], row['y1'], row['x2'], row['y2']\n",
        "    #img_class = row['class']\n",
        "    \n",
        "    # read original image\n",
        "    img_path = os.path.join(img_folder, img_name)\n",
        "    img = cv2.imread(img_path)\n",
        "\n",
        "    # create mask\n",
        "    mask = np.zeros(img.shape[:2], dtype=np.uint8)\n",
        "    mask[y1:y2, x1:x2] = 255\n",
        "\n",
        "    # apply mask to original image to color the area inside the bounding box\n",
        "    new_img = cv2.bitwise_and(img, img, mask=mask)\n",
        "\n",
        "    #if img_class != 0:\n",
        "        #new_img = img\n",
        "    \n",
        "    # write new image to file\n",
        "    new_path = os.path.join(cropped_folder)\n",
        "    if not os.path.exists(new_path):\n",
        "        os.makedirs(new_path)\n",
        "    cv2.imwrite(os.path.join(new_path, img_name.split('/')[-1]), new_img)\n"
      ],
      "metadata": {
        "execution": {
          "iopub.status.busy": "2023-05-23T10:23:39.411722Z",
          "iopub.execute_input": "2023-05-23T10:23:39.412125Z",
          "iopub.status.idle": "2023-05-23T10:23:55.551054Z",
          "shell.execute_reply.started": "2023-05-23T10:23:39.412090Z",
          "shell.execute_reply": "2023-05-23T10:23:55.549874Z"
        },
        "trusted": true,
        "id": "89Rkm1cMMhWE"
      },
      "execution_count": null,
      "outputs": []
    },
    {
      "cell_type": "code",
      "source": [
        "##### MORE CENTERED TEST CROP ##########\n",
        "\n",
        "# load csv file with image coordinates\n",
        "csv_file = '/kaggle/input/aiunict-2023/test.csv'\n",
        "df = pd.read_csv(csv_file)\n",
        "\n",
        "# path to original images\n",
        "img_folder = '/kaggle/input/aiunict-2023/test'\n",
        "\n",
        "# path to new cropped images\n",
        "cropped_folder = '/kaggle/working/test'\n",
        "\n",
        "# create folders for cropped images if they don't exist\n",
        "if not os.path.exists(cropped_folder):\n",
        "    os.makedirs(cropped_folder)\n",
        "\n",
        "# loop through rows in the dataframe\n",
        "for index, row in df.iterrows():\n",
        "    # get image name and coordinates from dataframe\n",
        "    img_name = row['image']\n",
        "    x1, y1, x2, y2 = row['x1'], row['y1'], row['x2'], row['y2']\n",
        "    \n",
        "    if(x1 < 1):\n",
        "        continue\n",
        "\n",
        "        \n",
        "     # calculate center of bounding box\n",
        "    center_x = (x1 + x2) // 2\n",
        "    center_y = (y1 + y2) // 2\n",
        "    \n",
        "    # adjust coordinates for cropping\n",
        "    crop_width = int((x2 - x1) * 0.6)  # crop more than half of the image\n",
        "    crop_height = int((y2 - y1) * 0.6)  # crop more than half of the image\n",
        "    crop_x1 = center_x - crop_width // 2\n",
        "    crop_y1 = center_y - crop_height // 2\n",
        "    crop_x2 = center_x + crop_width // 2\n",
        "    crop_y2 = center_y + crop_height // 2   \n",
        "        \n",
        "        \n",
        "    # path to original image and new cropped image\n",
        "    img_path = os.path.join(img_folder, img_name)\n",
        "    cropped_path = os.path.join(cropped_folder)\n",
        "\n",
        "    # read original image and crop it\n",
        "    img = cv2.imread(img_path)\n",
        "    cropped_img = img[crop_y1:crop_y2, crop_x1:crop_x2]\n",
        "\n",
        "    # write cropped image to file\n",
        "    if not os.path.exists(cropped_path):\n",
        "        os.makedirs(cropped_path)\n",
        "    cv2.imwrite(os.path.join(cropped_path, img_name.split('/')[-1]), cropped_img)\n"
      ],
      "metadata": {
        "trusted": true,
        "id": "jaiZ8LIBMhWE"
      },
      "execution_count": null,
      "outputs": []
    },
    {
      "cell_type": "code",
      "source": [
        "# Process Image\n",
        "#image = process_image(\"/kaggle/input/aiunict-2023/test/450.jpg\")\n",
        "image = process_image(\"/kaggle/working/test/112.jpg\")\n",
        "\n",
        "# Give image to model to predict output\n",
        "model_ft = model_ft.to(\"cpu\")\n",
        "top_prob, top_class = predict(image, model_ft)\n",
        "top_prob = top_prob / 10\n",
        "# Show the image\n",
        "show_image(image)\n",
        "# Print the results\n",
        "print(\"The model is %.2f\" % top_prob, \"% certain that the image has a predicted class of \", top_class  )"
      ],
      "metadata": {
        "execution": {
          "iopub.status.busy": "2023-05-23T10:30:59.939823Z",
          "iopub.execute_input": "2023-05-23T10:30:59.940982Z",
          "iopub.status.idle": "2023-05-23T10:31:00.340256Z",
          "shell.execute_reply.started": "2023-05-23T10:30:59.940942Z",
          "shell.execute_reply": "2023-05-23T10:31:00.338684Z"
        },
        "trusted": true,
        "id": "V2IWrmP-MhWE",
        "outputId": "ac1978a4-ad78-4df0-b45f-d6f9cecbdf2e"
      },
      "execution_count": null,
      "outputs": [
        {
          "name": "stdout",
          "text": "The model is 56.31 % certain that the image has a predicted class of  0\n",
          "output_type": "stream"
        },
        {
          "output_type": "display_data",
          "data": {
            "text/plain": "<Figure size 2500x400 with 1 Axes>",
            "image/png": "[encoded data removed]"
          },
          "metadata": {}
        }
      ]
    },
    {
      "cell_type": "code",
      "source": [
        "# Define the test dataset class\n",
        "class TestDataset(Dataset):\n",
        "    def __init__(self, img_dir):\n",
        "        self.img_dir = img_dir\n",
        "        self.img_names = os.listdir(img_dir)\n",
        "        self.transform = transforms.Compose([\n",
        "            transforms.Resize((224, 224)),\n",
        "            transforms.ToTensor(),\n",
        "            transforms.Normalize(mean=[0.485, 0.456, 0.406], std=[0.229, 0.224, 0.225])\n",
        "        ])\n",
        "\n",
        "    def __getitem__(self, index):\n",
        "        img_path = os.path.join(self.img_dir, self.img_names[index])\n",
        "        img = Image.open(img_path).convert('RGB')\n",
        "        img = self.transform(img)\n",
        "        return img, self.img_names[index]\n",
        "\n",
        "    def __len__(self):\n",
        "        return len(self.img_names)\n",
        "\n",
        "# Create a DataLoader for the test dataset\n",
        "test_dataset = TestDataset('/kaggle/working/test')\n",
        "test_loader = DataLoader(test_dataset, batch_size=1, shuffle=False)\n",
        "\n",
        "\n",
        "# Create a list to store the predicted outputs\n",
        "pred_outputs = []\n",
        "\n",
        "# Set the model to evaluation mode\n",
        "model_ft.eval()\n",
        "\n",
        "# Loop through the test DataLoader and get the predicted outputs\n",
        "with torch.no_grad():\n",
        "    for batch, (imgs, img_names) in enumerate(test_loader):\n",
        "        # Move inputs to device\n",
        "        imgs = imgs.to('cpu')\n",
        "\n",
        "        # Forward pass through the model\n",
        "        outputs = model_ft(imgs)\n",
        "\n",
        "        # Get the predicted class index\n",
        "        _, preds = torch.max(outputs, 1)\n",
        "\n",
        "        # Append the predicted outputs to your list\n",
        "        for i in range(len(preds)):\n",
        "            pred_outputs.append((img_names[i], preds[i].item()))\n",
        "            \n",
        "        print(pred_outputs)\n",
        "\n",
        "# Save the predicted outputs to a CSV file\n",
        "with open('submission.csv', 'w', newline='') as csvfile:\n",
        "    writer = csv.writer(csvfile)\n",
        "    writer.writerow(['image', 'class'])\n",
        "    for output in pred_outputs:\n",
        "        writer.writerow(output)\n"
      ],
      "metadata": {
        "trusted": true,
        "id": "6wSyiGVdMhWG"
      },
      "execution_count": null,
      "outputs": []
    },
    {
      "cell_type": "markdown",
      "source": [
        "# Faster R-CNN Model"
      ],
      "metadata": {
        "id": "ZVcHtJS5RW1W"
      }
    },
    {
      "cell_type": "markdown",
      "source": [
        "## Definitions\n"
      ],
      "metadata": {
        "id": "TVI-acCcUp3V"
      }
    },
    {
      "cell_type": "markdown",
      "source": [
        "\n",
        "**Importing Libraries**"
      ],
      "metadata": {
        "id": "MvuPKeWoRs_r"
      }
    },
    {
      "cell_type": "code",
      "execution_count": null,
      "metadata": {
        "id": "45jwvizkRmlY"
      },
      "outputs": [],
      "source": [
        "import os\n",
        "import random\n",
        "import numpy as np\n",
        "import pandas as pd\n",
        "import warnings\n",
        "import cv2\n",
        "from xml.etree import ElementTree as et\n",
        "import matplotlib.pyplot as plt\n",
        "import matplotlib.patches as patches\n",
        "import torch\n",
        "import torchvision\n",
        "from torchvision import transforms as torchtrans  \n",
        "from torchvision.models.detection.faster_rcnn import FastRCNNPredictor\n",
        "import albumentations as A\n",
        "from albumentations.pytorch.transforms import ToTensorV2\n",
        "from albumentations.core.transforms_interface import ImageOnlyTransform\n",
        "import torchvision.transforms as T\n",
        "from torch.utils.data import Dataset, DataLoader\n",
        "from pathlib import Path\n",
        "from PIL import Image\n",
        "from torch.utils.data import random_split\n",
        "from matplotlib import pyplot as plt\n",
        "from numpy import asarray\n",
        "from torchmetrics.classification import Accuracy\n"
      ]
    },
    {
      "cell_type": "markdown",
      "source": [
        "**Defining Custom Dataset**"
      ],
      "metadata": {
        "id": "VgHRajr3SAgd"
      }
    },
    {
      "cell_type": "code",
      "source": [
        "class MyDataset(Dataset):\n",
        "    def __init__(self, root_dir, train=True,mask=False, transforms=None):\n",
        "        self.split = \"train\" if train else \"test\"\n",
        "        self.root_dir = Path(root_dir)/self.split\n",
        "        self.transforms = transforms\n",
        "        self.files = []\n",
        "        self.mask=mask\n",
        "        self.df_mask=pd.DataFrame()\n",
        "        folders = sorted(os.listdir(self.root_dir))\n",
        "        \n",
        "        if self.split==\"train\" :\n",
        "            if  mask:\n",
        "                self.df_mask=pd.read_csv(root_dir+\"train.csv\")\n",
        "            for folder in folders:\n",
        "                class_idx= folders.index(folder)\n",
        "                folder_dir = self.root_dir/folder\n",
        "                files = os.listdir(folder_dir)\n",
        "                if(class_idx==0):\n",
        "                    for x in files:\n",
        "                        self.files.append({\"mask\":folder+\"/\"+x,\"file\": folder_dir/x, \"class\": class_idx+1,\"flag\":False})\n",
        "                else:\n",
        "                    for x in files:\n",
        "                        self.files.append({\"mask\":folder+\"/\"+x,\"file\": folder_dir/x, \"class\": class_idx+1,\"flag\":False})\n",
        "        else:\n",
        "            self.file=folders\n",
        "            for file in folders:\n",
        "                 self.files.append(self.root_dir/file)\n",
        "    \n",
        "    def __len__(self):\n",
        "        return len(self.files)\n",
        "    \n",
        "    def __getitem__(self, i):\n",
        "        \n",
        "        if self.split == \"train\":\n",
        "            item = self.files[i]\n",
        "            file = item['file']\n",
        "            # reading the images and converting them to correct size and color    \n",
        "            img = cv2.imread(str(file))\n",
        "            img_res = cv2.cvtColor(img, cv2.COLOR_BGR2RGB).astype(np.float32)\n",
        "            # diving by 255\n",
        "            img_res /= 255.0\n",
        "            # recover bounding boxes\n",
        "            name_file_img=item['mask']\n",
        "            mask_data=self.df_mask[self.df_mask[\"image\"]==name_file_img]\n",
        "            xmin=int(mask_data[\"x1\"])+1\n",
        "            ymin=int(mask_data[\"y1\"])+1\n",
        "            xmax=int(mask_data[\"x2\"])-1\n",
        "            ymax=int(mask_data[\"y2\"])-1\n",
        "            \n",
        "            # resize bounding boxes\n",
        "            boxes = []           \n",
        "            boxes.append([xmin, ymin, xmax, ymax])\n",
        "            # convert boxes into a torch.Tensor\n",
        "            boxes = torch.as_tensor(boxes, dtype=torch.int64)            \n",
        "            labels = torch.tensor(item['class'],dtype=torch.int64)\n",
        "            labels=labels.unsqueeze(0)\n",
        "            \n",
        "            target = {}\n",
        "            target[\"boxes\"] = boxes\n",
        "            target[\"labels\"] = labels\n",
        "                        \n",
        "            if self.transforms:\n",
        "            \n",
        "                sample = {'image' : img_res,\n",
        "                          'bboxes' : target['boxes'],\n",
        "                          'labels' : labels\n",
        "                         }\n",
        "               \n",
        "                sample = self.transforms(**sample)\n",
        "                img_res = sample['image']\n",
        "                target['boxes'] = torch.as_tensor((sample['bboxes']),dtype=torch.int64)\n",
        "                \n",
        "               \n",
        "            return img_res, target\n",
        "        else:\n",
        "            file = self.files[i]\n",
        "            img = cv2.imread(str(file))\n",
        "            img_res = cv2.cvtColor(img, cv2.COLOR_BGR2RGB).astype(np.float32)\n",
        "            img_res /= 255.0\n",
        "            \n",
        "            if self.transforms:\n",
        "                sample = {\n",
        "                    'image': img_res,\n",
        "                }\n",
        "                sample = self.transforms(**sample)\n",
        "                image = sample['image']\n",
        "                             \n",
        "            return image,self.file[i]"
      ],
      "metadata": {
        "id": "dNCiFpLqRpoV"
      },
      "execution_count": null,
      "outputs": []
    },
    {
      "cell_type": "markdown",
      "source": [
        "**Defining Transformations**"
      ],
      "metadata": {
        "id": "YEbAnFiuSMH0"
      }
    },
    {
      "cell_type": "code",
      "source": [
        "def train_transformations():\n",
        "    return A.Compose([\n",
        "        A.Flip(0.5),\n",
        "        A.ShiftScaleRotate(shift_limit=0.2,scale_limit=0.25, rotate_limit=45, p=0.7),        \n",
        "        ToTensorV2(p=1.0)\n",
        "    ], bbox_params={'format': 'pascal_voc', 'label_fields': ['labels']})\n",
        "\n",
        "def test_transformations():\n",
        "    return A.Compose([\n",
        "        ToTensorV2(p=1.0)\n",
        "    ])"
      ],
      "metadata": {
        "id": "M-HKo1CJRpqw"
      },
      "execution_count": null,
      "outputs": []
    },
    {
      "cell_type": "markdown",
      "source": [
        "## Training"
      ],
      "metadata": {
        "id": "3YNpq6_xUliz"
      }
    },
    {
      "cell_type": "markdown",
      "source": [
        "**Creating Dataloaders**"
      ],
      "metadata": {
        "id": "wsLYEdGBSVLq"
      }
    },
    {
      "cell_type": "code",
      "source": [
        "device = torch.device('cuda') if torch.cuda.is_available() else torch.device('cpu')\n",
        "\n",
        "def collate_fn(batch):\n",
        "    return tuple(zip(*batch))\n",
        "\n",
        "root_dir = \"../input/aiunict-2023/\"\n",
        "train_dataset = MyDataset(root_dir, train=True,mask=True, transforms= train_transformations())\n",
        "train_data_loader = DataLoader(train_dataset,batch_size=8,shuffle=True,num_workers=4,collate_fn=collate_fn)\n"
      ],
      "metadata": {
        "id": "_BpICLC9RptF"
      },
      "execution_count": null,
      "outputs": []
    },
    {
      "cell_type": "markdown",
      "source": [
        "**Importing pretrained FasterRCNN Model**"
      ],
      "metadata": {
        "id": "YcwllYZJSfJ1"
      }
    },
    {
      "cell_type": "code",
      "source": [
        "model = torchvision.models.detection.fasterrcnn_resnet50_fpn(pretrained=True)\n",
        "classes_count = 9 \n",
        "in_features = model.roi_heads.box_predictor.cls_score.in_features\n",
        "model.roi_heads.box_predictor = FastRCNNPredictor(in_features, classes_count)"
      ],
      "metadata": {
        "id": "ebPsy6tRRpvV"
      },
      "execution_count": null,
      "outputs": []
    },
    {
      "cell_type": "markdown",
      "source": [
        "**Averager class to keep track of the average loss**"
      ],
      "metadata": {
        "id": "t8Ds7oKgTKl1"
      }
    },
    {
      "cell_type": "code",
      "source": [
        "class Averager:\n",
        "    def __init__(self):\n",
        "        self.current_total = 0.0\n",
        "        self.iterations = 0.0\n",
        "\n",
        "    def send(self, value):\n",
        "        self.current_total += value\n",
        "        self.iterations += 1\n",
        "\n",
        "    @property\n",
        "    def value(self):\n",
        "        if self.iterations == 0:\n",
        "            return 0\n",
        "        else:\n",
        "            return 1.0 * self.current_total / self.iterations\n",
        "\n",
        "    def reset(self):\n",
        "        self.current_total = 0.0\n",
        "        self.iterations = 0.0"
      ],
      "metadata": {
        "id": "vhwIrySbRpxg"
      },
      "execution_count": null,
      "outputs": []
    },
    {
      "cell_type": "markdown",
      "source": [
        "**Defining NMS technique to improve the results**"
      ],
      "metadata": {
        "id": "qn77k2itTw-f"
      }
    },
    {
      "cell_type": "code",
      "source": [
        "def apply_nms(orig_prediction, iou_thresh=0.3):\n",
        "    keep = torchvision.ops.nms(orig_prediction['boxes'], orig_prediction['scores'], iou_thresh)\n",
        "    final_prediction = orig_prediction\n",
        "    final_prediction['boxes'] = final_prediction['boxes'][keep]\n",
        "    final_prediction['scores'] = final_prediction['scores'][keep]\n",
        "    final_prediction['labels'] = final_prediction['labels'][keep]\n",
        "    \n",
        "    return final_prediction"
      ],
      "metadata": {
        "id": "xBr4xlGJRpzv"
      },
      "execution_count": null,
      "outputs": []
    },
    {
      "cell_type": "markdown",
      "source": [
        "**Setting parameters**"
      ],
      "metadata": {
        "id": "p7ZOQDnhUNPl"
      }
    },
    {
      "cell_type": "code",
      "source": [
        "model.to(device)\n",
        "params = [p for p in model.parameters() if p.requires_grad]\n",
        "optimizer = torch.optim.SGD(params, lr=0.005, momentum=0.9, weight_decay=0.0001)\n",
        "lr_scheduler =None"
      ],
      "metadata": {
        "id": "V-pWnZHfRp11"
      },
      "execution_count": null,
      "outputs": []
    },
    {
      "cell_type": "markdown",
      "source": [
        "**Training Loop**"
      ],
      "metadata": {
        "id": "0ipKyqi7UWvX"
      }
    },
    {
      "cell_type": "code",
      "source": [
        "num_epochs =  10 \n",
        "loss_hist = Averager()\n",
        "itr = 1\n",
        "lossHistoryiter = []\n",
        "lossHistoryepoch = []\n",
        "true_lab=[]\n",
        "import time\n",
        "start = time.time()\n",
        "\n",
        "for epoch in range(num_epochs):\n",
        "    loss_hist.reset()\n",
        "    model.train()\n",
        "    for images, targets in train_data_loader:\n",
        "        \n",
        "        images = list(image.to(device) for image in images)\n",
        "        targets = [{k: v.to(device) for k, v in t.items()} for t in targets]\n",
        "        loss_dict = model(images, targets)  \n",
        "        \n",
        "        losses = sum(loss for loss in loss_dict.values())\n",
        "        loss_value = losses.item()\n",
        "        \n",
        "        loss_hist.send(loss_value)\n",
        "        lossHistoryiter.append(loss_value)\n",
        "        optimizer.zero_grad()\n",
        "        losses.backward()\n",
        "        optimizer.step()\n",
        "\n",
        "        if itr % 50 == 0:\n",
        "            print(f\"Iteration #{itr} loss: {loss_value}\")\n",
        "\n",
        "        itr += 1\n",
        "    \n",
        "    lossHistoryepoch.append(loss_hist.value)\n",
        "    print(f\"Epoch #{epoch} loss: {loss_hist.value}\")\n",
        "     \n",
        "end = time.time()\n",
        "hours, rem = divmod(end-start, 3600)\n",
        "minutes, seconds = divmod(rem, 60)\n",
        "print(\"Time taken to Train the model :{:0>2}:{:0>2}:{:05.2f}\".format(int(hours),int(minutes),seconds))"
      ],
      "metadata": {
        "id": "3dLn_vDTTR74"
      },
      "execution_count": null,
      "outputs": []
    },
    {
      "cell_type": "markdown",
      "source": [
        "## Testing"
      ],
      "metadata": {
        "id": "w8tu0E5EUcpZ"
      }
    },
    {
      "cell_type": "markdown",
      "source": [
        "**Creating Test Dataset**"
      ],
      "metadata": {
        "id": "1Haz9tXZUxS_"
      }
    },
    {
      "cell_type": "code",
      "source": [
        "test_dataset = MyDataset(root_dir, train=False, transforms= test_transformations())"
      ],
      "metadata": {
        "id": "XiH8V__DTR5N"
      },
      "execution_count": null,
      "outputs": []
    },
    {
      "cell_type": "markdown",
      "source": [
        "**Running the model on the test dataset and saving the CSV file**"
      ],
      "metadata": {
        "id": "DIdP5anFU4tl"
      }
    },
    {
      "cell_type": "code",
      "source": [
        "image_list=[]\n",
        "class_list=[]\n",
        "for idx in range(test_dataset.__len__()):\n",
        "    img,name_file = test_dataset[idx]\n",
        "\n",
        "    model.eval()\n",
        "    with torch.no_grad():\n",
        "        prediction = model([img.to(device)])[0]\n",
        "    nms_prediction = apply_nms(prediction, iou_thresh=0.2)\n",
        "    pred=nms_prediction['labels'].cpu().numpy()[0]\n",
        "    \n",
        "    image_list.append(name_file)\n",
        "    class_list.append(pred-1)\n",
        "    \n",
        "d = {'image': image_list, 'class': class_list}\n",
        "df = pd.DataFrame(data=d)\n",
        "df.to_csv(\"submission.csv\",index=False)"
      ],
      "metadata": {
        "id": "lKCj-_QJTR24"
      },
      "execution_count": null,
      "outputs": []
    }
  ]
}